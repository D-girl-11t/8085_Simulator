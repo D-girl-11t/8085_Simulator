{
  "nbformat": 4,
  "nbformat_minor": 0,
  "metadata": {
    "colab": {
      "provenance": [],
      "authorship_tag": "ABX9TyNAJehkNyV2Ck/VKRYWxrtn",
      "include_colab_link": true
    },
    "kernelspec": {
      "name": "python3",
      "display_name": "Python 3"
    },
    "language_info": {
      "name": "python"
    }
  },
  "cells": [
    {
      "cell_type": "markdown",
      "metadata": {
        "id": "view-in-github",
        "colab_type": "text"
      },
      "source": [
        "<a href=\"https://colab.research.google.com/github/D-girl-11t/8085_Simulator/blob/main/hw4_ds6992.ipynb\" target=\"_parent\"><img src=\"https://colab.research.google.com/assets/colab-badge.svg\" alt=\"Open In Colab\"/></a>"
      ]
    },
    {
      "cell_type": "code",
      "execution_count": null,
      "metadata": {
        "colab": {
          "base_uri": "https://localhost:8080/"
        },
        "id": "NG96VSl9jzsR",
        "outputId": "ba8bd537-662e-43a3-bd65-eadf2628af0f"
      },
      "outputs": [
        {
          "output_type": "stream",
          "name": "stdout",
          "text": [
            "Looking in indexes: https://pypi.org/simple, https://us-python.pkg.dev/colab-wheels/public/simple/\n",
            "Requirement already satisfied: pydes in /usr/local/lib/python3.9/dist-packages (2.0.1)\n"
          ]
        }
      ],
      "source": [
        "!pip install pydes  #installing necessary package"
      ]
    },
    {
      "cell_type": "code",
      "source": [
        "#importing necessary libraries\n",
        "import math\n",
        "import numpy as np\n",
        "import scipy\n",
        "import random\n",
        "import csv\n",
        "import pyDes\n",
        "from itertools import *"
      ],
      "metadata": {
        "id": "tm0EtxOskDjz"
      },
      "execution_count": null,
      "outputs": []
    },
    {
      "cell_type": "code",
      "source": [
        "KEY = \"Donttell\"            #is the secret key, which is no more a secret after attack\n",
        "cipher = pyDes.des(KEY)     #calling the des function from pydes package\n",
        "\n",
        "plain_text = \"security\"\n"
      ],
      "metadata": {
        "id": "Y6aO0ml9kLYy"
      },
      "execution_count": null,
      "outputs": []
    },
    {
      "cell_type": "markdown",
      "source": [
        "The cipher here accepts the 64 bit key (in byte form) , we are performing the attack with only one block of 64bit plain_text to avoid confusion, binary of \"security\" is 64bit.\n",
        "It can be extended to any number of bits by choping the plain_text into 64bits blocks and iterating through each block"
      ],
      "metadata": {
        "id": "2gLotCC-7ikx"
      }
    },
    {
      "cell_type": "code",
      "source": [
        "print(dir(cipher))        #lets check all the attributes inside cipher"
      ],
      "metadata": {
        "colab": {
          "base_uri": "https://localhost:8080/"
        },
        "id": "JqfQE10ZkNlD",
        "outputId": "7ec869c2-6a5c-4154-9846-22f5575a9763"
      },
      "execution_count": null,
      "outputs": [
        {
          "output_type": "stream",
          "name": "stdout",
          "text": [
            "['DECRYPT', 'ENCRYPT', 'Kn', 'L', 'R', '__class__', '__delattr__', '__dict__', '__dir__', '__doc__', '__eq__', '__format__', '__ge__', '__getattribute__', '__gt__', '__hash__', '__init__', '__init_subclass__', '__le__', '__lt__', '__module__', '__ne__', '__new__', '__reduce__', '__reduce_ex__', '__repr__', '__setattr__', '__sizeof__', '__str__', '__subclasshook__', '__weakref__', '_baseDes__key', '_des__BitList_to_String', '_des__String_to_BitList', '_des__create_sub_keys', '_des__des_crypt', '_des__expansion_table', '_des__fp', '_des__ip', '_des__left_rotations', '_des__p', '_des__pc1', '_des__pc2', '_des__permutate', '_des__sbox', '_guardAgainstUnicode', '_iv', '_mode', '_padData', '_padding', '_padmode', '_unpadData', 'block_size', 'crypt', 'decrypt', 'encrypt', 'final', 'getIV', 'getKey', 'getMode', 'getPadMode', 'getPadding', 'key_size', 'setIV', 'setKey', 'setMode', 'setPadMode', 'setPadding']\n"
          ]
        }
      ]
    },
    {
      "cell_type": "markdown",
      "source": [
        "Below is the code for DES ALgorithm.\n",
        "An attack is introduced at round 15. \n",
        "The function returns 3 values : ciphered text, Right and left blocks of 64bit before final permutation.\n",
        "\n",
        "The left and right blocks can be retrieved by making the cipher text go through IP ( inverse of inverse permutation) and swapping the half of the 64bit blocks and breaking into two. Instead I just returned at the end of the function as our main focus is about attack on DES algorithm. \n"
      ],
      "metadata": {
        "id": "S4N37g2byeVa"
      }
    },
    {
      "cell_type": "markdown",
      "source": [
        "The functions with cipher.function() is from pyDes package. We saw all the attributes pyDes has and I have used them accordingly everywhere"
      ],
      "metadata": {
        "id": "nBoDFQjcz5ME"
      }
    },
    {
      "cell_type": "code",
      "source": [
        "#DES Algorithm for a block of 8bytes\n",
        "\n",
        "def fault_encrypt(block, mode, fault_index):\n",
        "  block = cipher._des__permutate(cipher._des__ip, block)\n",
        "  L = block[:32]\n",
        "  R = block[32:]\n",
        "\n",
        "  # for 16 rounds\n",
        "  for i in range(16):\n",
        "    tempR = R[:]\n",
        "    R = cipher._des__permutate(cipher._des__expansion_table, R)\n",
        "    R = list(map(lambda x, y: x ^ y, R, cipher.Kn[i]))\n",
        "    B = [R[:6], R[6:12], R[12:18], R[18:24], R[24:30], R[30:36], R[36:42], R[42:]]\n",
        "\n",
        "\n",
        "    # Permutate B[1] to B[8] using the S-Boxes\n",
        "    j = 0\n",
        "    Bn = [0] * 32\n",
        "    pos = 0\n",
        "    while j < 8:\n",
        "      # Work out the offsets\n",
        "      m = (B[j][0] << 1) + B[j][5]\n",
        "      n = (B[j][1] << 3) + (B[j][2] << 2) + (B[j][3] << 1) + B[j][4]\n",
        "\n",
        "      # Find the permutation value\n",
        "      v = cipher._des__sbox[j][(m << 4) + n]\n",
        "\n",
        "      # Turn value into bits, add it to result: Bn\n",
        "      Bn[pos] = (v & 8) >> 3\n",
        "      Bn[pos + 1] = (v & 4) >> 2\n",
        "      Bn[pos + 2] = (v & 2) >> 1\n",
        "      Bn[pos + 3] = v & 1\n",
        "\n",
        "      pos += 4\n",
        "      j += 1\n",
        "\n",
        "    R = cipher._des__permutate(cipher._des__p, Bn)\n",
        "\n",
        "\n",
        "    # Xor with L[i - 1]  \n",
        "    R = list(map(lambda x, y: x ^ y, R, L))\n",
        "    L = tempR\n",
        "\n",
        "    if(mode==\"fault\"):\n",
        "      if(i==14):                #attack at round 15\n",
        "        if R[fault_index] == 0:\n",
        "          R[fault_index] =1\n",
        "        else:\n",
        "          R[fault_index] = 0\n",
        "\n",
        "\n",
        "  # Final permutation of R[16]L[16]\n",
        "  cipher.final = cipher._des__permutate(cipher._des__fp, R + L)\n",
        "  return cipher.final, R, L"
      ],
      "metadata": {
        "id": "SKEcuqySkZ8G"
      },
      "execution_count": null,
      "outputs": []
    },
    {
      "cell_type": "markdown",
      "source": [
        "##I created a fault at ONCE for each bit of 32bit R15 to get 32 different ciphers."
      ],
      "metadata": {
        "id": "OTHrSdNr0RtF"
      }
    },
    {
      "cell_type": "code",
      "source": [
        "plain_text_inbits=[0, 1, 1, 1, 0, 0, 1, 1, 0, 1, 1, 0, 0, 1, 0, 1, 0, 1, 1, 0, 0, 0, 1, 1, 0, 1, 1, 1, 0, 1, 0, 1, 0, 1, 1, 1, 0, 0, 1, 0, 0, 1, 1, 0, 1, 0, 0, 1, 0, 1, 1, 1, 0, 1, 0, 0, 0, 1, 1, 1, 1, 0, 0, 1]\n",
        "fault_insertion = []    #just an array of numbers from 0 to 31 , each number is the fault number\n",
        "for i in range(32):    #insert fault at particular indices\n",
        "  fault_insertion.append(i)\n",
        "\n",
        "for i in range(32):\n",
        "  globals()['fault_'+str(i)]= fault_encrypt(plain_text_inbits, \"fault\", fault_insertion[i])\n",
        "  globals()['fault_R16_'+str(i)] = globals()['fault_'+str(i)][1]        #32 fault R16 addressed using globals() variable\n",
        "  globals()['fault_L16_'+str(i)] = globals()['fault_'+str(i)][2]         #32 fault L16 addressed using globals() variable\n",
        "\n",
        "  globals()['original_'+str(i)] = fault_encrypt(plain_text_inbits, \"original\", fault_insertion[i])\n",
        "  globals()['original_R16_'+str(i)] = globals()['original_'+str(i)][1]     #32 original R16 addressed using globals() variable\n",
        "  globals()['original_L16_'+str(i)] = globals()['original_'+str(i)][2]      #32 original L16 addressed using globals() variable\n",
        "\n",
        "\n"
      ],
      "metadata": {
        "id": "w1wdT82lk-Hb"
      },
      "execution_count": null,
      "outputs": []
    },
    {
      "cell_type": "code",
      "source": [
        "#lets just check all fault R16 for 32 different faults\n",
        "for i in range(32):\n",
        "  print( globals()['fault_R16_'+str(i)])"
      ],
      "metadata": {
        "colab": {
          "base_uri": "https://localhost:8080/"
        },
        "id": "RVw_5vGK53DO",
        "outputId": "6ec8ed14-3366-48e6-ea79-6e5df9813462"
      },
      "execution_count": null,
      "outputs": [
        {
          "output_type": "stream",
          "name": "stdout",
          "text": [
            "[1, 1, 1, 1, 1, 1, 1, 1, 0, 0, 0, 1, 1, 0, 1, 0, 0, 0, 1, 1, 1, 1, 0, 1, 1, 1, 1, 0, 0, 1, 0, 1]\n",
            "[1, 1, 1, 1, 0, 1, 1, 1, 1, 0, 0, 1, 1, 0, 1, 0, 1, 0, 1, 1, 1, 1, 1, 1, 1, 1, 0, 0, 0, 1, 1, 1]\n",
            "[1, 1, 1, 1, 0, 1, 1, 1, 0, 0, 0, 1, 1, 0, 1, 0, 1, 0, 1, 1, 1, 1, 0, 1, 1, 1, 0, 0, 0, 1, 0, 1]\n",
            "[1, 1, 1, 1, 0, 1, 1, 1, 1, 0, 0, 1, 0, 0, 1, 0, 1, 0, 1, 1, 1, 1, 0, 1, 1, 1, 0, 1, 0, 1, 0, 1]\n",
            "[1, 0, 1, 1, 0, 1, 1, 1, 0, 0, 0, 1, 1, 0, 1, 0, 1, 1, 1, 1, 1, 1, 1, 1, 1, 1, 0, 0, 0, 1, 0, 1]\n",
            "[1, 0, 1, 1, 0, 1, 1, 1, 1, 0, 0, 1, 0, 0, 1, 0, 0, 0, 1, 1, 1, 1, 1, 1, 1, 1, 0, 0, 0, 1, 0, 1]\n",
            "[1, 0, 1, 1, 0, 1, 1, 1, 1, 0, 0, 1, 1, 0, 1, 0, 0, 1, 1, 1, 1, 1, 1, 1, 1, 1, 0, 1, 0, 1, 0, 1]\n",
            "[1, 0, 1, 1, 0, 1, 1, 1, 1, 0, 0, 1, 0, 0, 1, 1, 0, 0, 1, 1, 1, 1, 1, 1, 1, 1, 0, 1, 0, 0, 0, 1]\n",
            "[1, 1, 1, 1, 0, 0, 1, 1, 1, 0, 0, 1, 0, 0, 1, 1, 0, 1, 1, 1, 1, 1, 1, 0, 1, 1, 0, 0, 0, 1, 0, 1]\n",
            "[1, 1, 1, 1, 0, 0, 1, 1, 1, 0, 0, 1, 1, 0, 1, 0, 0, 0, 1, 1, 1, 1, 1, 1, 1, 1, 0, 0, 0, 0, 0, 1]\n",
            "[1, 1, 1, 1, 0, 1, 1, 1, 1, 0, 0, 1, 1, 0, 1, 1, 0, 0, 1, 1, 1, 1, 1, 0, 1, 1, 0, 0, 0, 0, 0, 1]\n",
            "[0, 1, 1, 1, 0, 1, 1, 1, 1, 1, 0, 1, 1, 0, 1, 0, 0, 0, 1, 0, 1, 1, 1, 0, 1, 1, 0, 0, 0, 0, 0, 1]\n",
            "[0, 1, 1, 1, 0, 0, 1, 1, 1, 1, 0, 1, 1, 0, 1, 1, 0, 0, 1, 0, 1, 1, 1, 1, 1, 0, 0, 0, 0, 0, 0, 1]\n",
            "[0, 1, 1, 1, 0, 1, 1, 1, 1, 1, 0, 1, 1, 0, 1, 0, 0, 0, 1, 0, 1, 1, 1, 1, 1, 1, 0, 0, 0, 1, 0, 1]\n",
            "[0, 1, 1, 1, 0, 1, 1, 1, 1, 0, 0, 1, 1, 0, 1, 0, 0, 0, 1, 0, 1, 1, 1, 1, 1, 0, 0, 0, 0, 1, 0, 1]\n",
            "[0, 1, 0, 1, 0, 1, 1, 1, 1, 0, 0, 1, 1, 0, 1, 0, 0, 0, 1, 0, 1, 1, 1, 1, 0, 1, 0, 0, 0, 1, 0, 1]\n",
            "[0, 1, 0, 1, 0, 1, 1, 0, 1, 0, 0, 1, 1, 1, 1, 0, 0, 0, 1, 0, 1, 1, 1, 1, 1, 1, 0, 0, 0, 1, 0, 1]\n",
            "[1, 1, 1, 1, 0, 1, 1, 0, 1, 0, 0, 1, 1, 1, 1, 0, 0, 0, 1, 1, 1, 1, 1, 1, 1, 1, 0, 0, 0, 1, 0, 1]\n",
            "[1, 1, 1, 1, 0, 1, 1, 1, 1, 0, 0, 1, 1, 1, 1, 0, 0, 0, 1, 1, 1, 1, 1, 1, 0, 1, 0, 0, 0, 1, 0, 1]\n",
            "[1, 1, 0, 0, 0, 1, 1, 0, 1, 0, 1, 1, 1, 0, 1, 0, 0, 0, 0, 1, 1, 1, 1, 1, 1, 1, 0, 0, 1, 1, 0, 1]\n",
            "[1, 1, 0, 0, 0, 1, 1, 0, 1, 0, 0, 1, 1, 0, 1, 0, 0, 0, 0, 1, 1, 1, 1, 1, 1, 1, 0, 0, 1, 1, 0, 1]\n",
            "[1, 1, 1, 1, 0, 1, 1, 1, 1, 0, 1, 1, 1, 0, 1, 0, 0, 0, 0, 1, 1, 1, 1, 1, 1, 1, 0, 0, 1, 1, 0, 1]\n",
            "[1, 1, 1, 0, 0, 1, 1, 1, 1, 0, 0, 1, 1, 0, 1, 0, 0, 0, 0, 1, 1, 1, 1, 1, 1, 1, 0, 0, 0, 1, 0, 1]\n",
            "[1, 1, 1, 0, 0, 1, 0, 1, 1, 0, 0, 0, 1, 0, 1, 0, 0, 0, 1, 1, 1, 1, 1, 1, 1, 1, 0, 0, 1, 1, 0, 0]\n",
            "[1, 1, 1, 0, 0, 1, 1, 1, 1, 0, 0, 0, 1, 0, 1, 0, 0, 0, 0, 1, 1, 0, 1, 1, 1, 1, 0, 0, 1, 1, 0, 1]\n",
            "[1, 1, 1, 1, 0, 1, 1, 1, 1, 0, 0, 0, 1, 0, 1, 0, 0, 0, 1, 1, 1, 1, 1, 1, 1, 1, 0, 0, 0, 1, 0, 0]\n",
            "[1, 1, 1, 1, 0, 1, 0, 1, 1, 0, 0, 1, 1, 0, 1, 0, 0, 0, 1, 1, 1, 1, 1, 1, 1, 1, 0, 0, 0, 1, 0, 0]\n",
            "[1, 1, 1, 1, 0, 1, 0, 1, 1, 0, 0, 0, 1, 0, 0, 0, 0, 0, 1, 1, 0, 1, 1, 1, 1, 1, 0, 0, 0, 1, 0, 0]\n",
            "[1, 1, 1, 1, 0, 1, 0, 1, 1, 0, 0, 0, 1, 0, 0, 0, 0, 0, 1, 1, 0, 1, 1, 1, 1, 1, 1, 0, 0, 1, 0, 1]\n",
            "[1, 1, 1, 1, 1, 1, 1, 1, 1, 0, 0, 1, 1, 0, 1, 0, 0, 0, 1, 1, 1, 1, 1, 1, 1, 1, 1, 0, 0, 1, 0, 1]\n",
            "[1, 1, 1, 1, 0, 1, 1, 1, 1, 0, 0, 1, 1, 0, 1, 0, 0, 0, 1, 1, 0, 1, 1, 1, 1, 1, 1, 0, 0, 1, 0, 1]\n",
            "[1, 1, 1, 1, 0, 1, 1, 1, 1, 0, 0, 1, 1, 0, 0, 0, 1, 0, 1, 1, 1, 1, 0, 1, 1, 1, 1, 0, 0, 1, 0, 1]\n"
          ]
        }
      ]
    },
    {
      "cell_type": "code",
      "source": [
        "#lets check the difference between original L16 and fault L16. This tells us which bit is altered\n",
        "for i in range(32):\n",
        "  print(list(map(lambda x, y: x ^ y,  globals()['original_L16_'+str(i)],  globals()['fault_L16_'+str(i)])))\n"
      ],
      "metadata": {
        "colab": {
          "base_uri": "https://localhost:8080/"
        },
        "id": "w1nDkvjpFCkc",
        "outputId": "2c73e913-308a-46da-f545-dc393ea84947"
      },
      "execution_count": null,
      "outputs": [
        {
          "output_type": "stream",
          "name": "stdout",
          "text": [
            "[1, 0, 0, 0, 0, 0, 0, 0, 0, 0, 0, 0, 0, 0, 0, 0, 0, 0, 0, 0, 0, 0, 0, 0, 0, 0, 0, 0, 0, 0, 0, 0]\n",
            "[0, 1, 0, 0, 0, 0, 0, 0, 0, 0, 0, 0, 0, 0, 0, 0, 0, 0, 0, 0, 0, 0, 0, 0, 0, 0, 0, 0, 0, 0, 0, 0]\n",
            "[0, 0, 1, 0, 0, 0, 0, 0, 0, 0, 0, 0, 0, 0, 0, 0, 0, 0, 0, 0, 0, 0, 0, 0, 0, 0, 0, 0, 0, 0, 0, 0]\n",
            "[0, 0, 0, 1, 0, 0, 0, 0, 0, 0, 0, 0, 0, 0, 0, 0, 0, 0, 0, 0, 0, 0, 0, 0, 0, 0, 0, 0, 0, 0, 0, 0]\n",
            "[0, 0, 0, 0, 1, 0, 0, 0, 0, 0, 0, 0, 0, 0, 0, 0, 0, 0, 0, 0, 0, 0, 0, 0, 0, 0, 0, 0, 0, 0, 0, 0]\n",
            "[0, 0, 0, 0, 0, 1, 0, 0, 0, 0, 0, 0, 0, 0, 0, 0, 0, 0, 0, 0, 0, 0, 0, 0, 0, 0, 0, 0, 0, 0, 0, 0]\n",
            "[0, 0, 0, 0, 0, 0, 1, 0, 0, 0, 0, 0, 0, 0, 0, 0, 0, 0, 0, 0, 0, 0, 0, 0, 0, 0, 0, 0, 0, 0, 0, 0]\n",
            "[0, 0, 0, 0, 0, 0, 0, 1, 0, 0, 0, 0, 0, 0, 0, 0, 0, 0, 0, 0, 0, 0, 0, 0, 0, 0, 0, 0, 0, 0, 0, 0]\n",
            "[0, 0, 0, 0, 0, 0, 0, 0, 1, 0, 0, 0, 0, 0, 0, 0, 0, 0, 0, 0, 0, 0, 0, 0, 0, 0, 0, 0, 0, 0, 0, 0]\n",
            "[0, 0, 0, 0, 0, 0, 0, 0, 0, 1, 0, 0, 0, 0, 0, 0, 0, 0, 0, 0, 0, 0, 0, 0, 0, 0, 0, 0, 0, 0, 0, 0]\n",
            "[0, 0, 0, 0, 0, 0, 0, 0, 0, 0, 1, 0, 0, 0, 0, 0, 0, 0, 0, 0, 0, 0, 0, 0, 0, 0, 0, 0, 0, 0, 0, 0]\n",
            "[0, 0, 0, 0, 0, 0, 0, 0, 0, 0, 0, 1, 0, 0, 0, 0, 0, 0, 0, 0, 0, 0, 0, 0, 0, 0, 0, 0, 0, 0, 0, 0]\n",
            "[0, 0, 0, 0, 0, 0, 0, 0, 0, 0, 0, 0, 1, 0, 0, 0, 0, 0, 0, 0, 0, 0, 0, 0, 0, 0, 0, 0, 0, 0, 0, 0]\n",
            "[0, 0, 0, 0, 0, 0, 0, 0, 0, 0, 0, 0, 0, 1, 0, 0, 0, 0, 0, 0, 0, 0, 0, 0, 0, 0, 0, 0, 0, 0, 0, 0]\n",
            "[0, 0, 0, 0, 0, 0, 0, 0, 0, 0, 0, 0, 0, 0, 1, 0, 0, 0, 0, 0, 0, 0, 0, 0, 0, 0, 0, 0, 0, 0, 0, 0]\n",
            "[0, 0, 0, 0, 0, 0, 0, 0, 0, 0, 0, 0, 0, 0, 0, 1, 0, 0, 0, 0, 0, 0, 0, 0, 0, 0, 0, 0, 0, 0, 0, 0]\n",
            "[0, 0, 0, 0, 0, 0, 0, 0, 0, 0, 0, 0, 0, 0, 0, 0, 1, 0, 0, 0, 0, 0, 0, 0, 0, 0, 0, 0, 0, 0, 0, 0]\n",
            "[0, 0, 0, 0, 0, 0, 0, 0, 0, 0, 0, 0, 0, 0, 0, 0, 0, 1, 0, 0, 0, 0, 0, 0, 0, 0, 0, 0, 0, 0, 0, 0]\n",
            "[0, 0, 0, 0, 0, 0, 0, 0, 0, 0, 0, 0, 0, 0, 0, 0, 0, 0, 1, 0, 0, 0, 0, 0, 0, 0, 0, 0, 0, 0, 0, 0]\n",
            "[0, 0, 0, 0, 0, 0, 0, 0, 0, 0, 0, 0, 0, 0, 0, 0, 0, 0, 0, 1, 0, 0, 0, 0, 0, 0, 0, 0, 0, 0, 0, 0]\n",
            "[0, 0, 0, 0, 0, 0, 0, 0, 0, 0, 0, 0, 0, 0, 0, 0, 0, 0, 0, 0, 1, 0, 0, 0, 0, 0, 0, 0, 0, 0, 0, 0]\n",
            "[0, 0, 0, 0, 0, 0, 0, 0, 0, 0, 0, 0, 0, 0, 0, 0, 0, 0, 0, 0, 0, 1, 0, 0, 0, 0, 0, 0, 0, 0, 0, 0]\n",
            "[0, 0, 0, 0, 0, 0, 0, 0, 0, 0, 0, 0, 0, 0, 0, 0, 0, 0, 0, 0, 0, 0, 1, 0, 0, 0, 0, 0, 0, 0, 0, 0]\n",
            "[0, 0, 0, 0, 0, 0, 0, 0, 0, 0, 0, 0, 0, 0, 0, 0, 0, 0, 0, 0, 0, 0, 0, 1, 0, 0, 0, 0, 0, 0, 0, 0]\n",
            "[0, 0, 0, 0, 0, 0, 0, 0, 0, 0, 0, 0, 0, 0, 0, 0, 0, 0, 0, 0, 0, 0, 0, 0, 1, 0, 0, 0, 0, 0, 0, 0]\n",
            "[0, 0, 0, 0, 0, 0, 0, 0, 0, 0, 0, 0, 0, 0, 0, 0, 0, 0, 0, 0, 0, 0, 0, 0, 0, 1, 0, 0, 0, 0, 0, 0]\n",
            "[0, 0, 0, 0, 0, 0, 0, 0, 0, 0, 0, 0, 0, 0, 0, 0, 0, 0, 0, 0, 0, 0, 0, 0, 0, 0, 1, 0, 0, 0, 0, 0]\n",
            "[0, 0, 0, 0, 0, 0, 0, 0, 0, 0, 0, 0, 0, 0, 0, 0, 0, 0, 0, 0, 0, 0, 0, 0, 0, 0, 0, 1, 0, 0, 0, 0]\n",
            "[0, 0, 0, 0, 0, 0, 0, 0, 0, 0, 0, 0, 0, 0, 0, 0, 0, 0, 0, 0, 0, 0, 0, 0, 0, 0, 0, 0, 1, 0, 0, 0]\n",
            "[0, 0, 0, 0, 0, 0, 0, 0, 0, 0, 0, 0, 0, 0, 0, 0, 0, 0, 0, 0, 0, 0, 0, 0, 0, 0, 0, 0, 0, 1, 0, 0]\n",
            "[0, 0, 0, 0, 0, 0, 0, 0, 0, 0, 0, 0, 0, 0, 0, 0, 0, 0, 0, 0, 0, 0, 0, 0, 0, 0, 0, 0, 0, 0, 1, 0]\n",
            "[0, 0, 0, 0, 0, 0, 0, 0, 0, 0, 0, 0, 0, 0, 0, 0, 0, 0, 0, 0, 0, 0, 0, 0, 0, 0, 0, 0, 0, 0, 0, 1]\n"
          ]
        }
      ]
    },
    {
      "cell_type": "markdown",
      "source": [
        "#Theory\n",
        "\n",
        "Lets focus on one particular SBox S with one particular faulted cypher. Let's calculate L16 ^ L16* for that SBox, that is 4 bits.\n",
        "With P-1 being the inverse of the permutation P we have :\n",
        "\n",
        "\n",
        "\n",
        "\n",
        "*   L16 = R15 and R16 = P(S(E(R15) ^ K16)) ^ L15\n",
        "*   after introducing a fault in R15\n",
        "– R15’ = R15 ^ e\n",
        "– L16’ = R15’ \n",
        "and R16’ = P(S(E(R15’) ^ K16)) ^L15\n",
        "* R16 ^ R16’=P(S(E(R15) ^K16)) ^ P(S(E(R15 ^e) ^K16)\n",
        "* P-1(R16 ^ R16’) = S(E(R15) ^ K16) ^ S(E(R15*) ^ K16)\n",
        "\n",
        "\n",
        "\n",
        "\n"
      ],
      "metadata": {
        "id": "slDUpYIp23Cg"
      }
    },
    {
      "cell_type": "code",
      "source": [
        "# lets make all the combinations of 0 and 1 of length 6 \n",
        "findkey=list(product([0,1],repeat=6))"
      ],
      "metadata": {
        "id": "Vens14oZxmFR"
      },
      "execution_count": null,
      "outputs": []
    },
    {
      "cell_type": "code",
      "source": [
        "#sbox function\n",
        "def sboxing(expanded):\n",
        "  expanded =[expanded[:6], expanded[6:12], expanded[12:18], expanded[18:24], expanded[24:30], expanded[30:36], expanded[36:42], expanded[42:]]\n",
        "  sbox_output=[]  \n",
        "  for j in range(8):  #for every sbox\n",
        "    Bn_poss = []\n",
        "    for k in findkey: #for all different combinations of key\n",
        "      Bn=[]\n",
        "      B = list(map(lambda x, y: x ^ y, expanded[j], list(k) ))\n",
        "      # print(\"box \"+ str(j))\n",
        "\n",
        "      m = (B[0] << 1) + B[5]\n",
        "      n = (B[1] << 3) + (B[2] << 2) + (B[3] << 1) + B[4]\n",
        "\n",
        "      # Find the permutation value\n",
        "      v = cipher._des__sbox[j][(m << 4) + n]\n",
        "\n",
        "      # Turn value into bits, add it to result: Bn\n",
        "      Bn.append((v & 8) >> 3)\n",
        "      Bn.append( (v & 4) >> 2)\n",
        "      Bn.append((v & 2) >> 1)\n",
        "      Bn.append( v & 1)\n",
        "\n",
        "      Bn_poss.append(Bn)\n",
        "    # print(len(Bn_poss))\n",
        "    sbox_output.append(Bn_poss)\n",
        "    # print(len(sbox_output))\n",
        "  return sbox_output\n"
      ],
      "metadata": {
        "id": "fX427OfBlTmj"
      },
      "execution_count": null,
      "outputs": []
    },
    {
      "cell_type": "code",
      "source": [
        "#performing step 3 in theory\n",
        "Pinv = [\n",
        "    9,  17, 23, 31,\n",
        "    13, 28, 2,  18,\n",
        "    24, 16, 30, 6,\n",
        "    26, 20, 10, 1,\n",
        "    8,  14, 25, 3,\n",
        "    4,  29, 11, 19,\n",
        "    32, 12, 22, 7,\n",
        "    5,  27, 15, 21\n",
        "]\n",
        "for i in range(32):\n",
        "  Pinv[i] = Pinv[i]-1\n",
        "  \n",
        "for i in range(32):\n",
        "  #delta is the difference between original R16 and fault R16\n",
        "  globals()['delta_'+str(i)]= list(map(lambda x, y: x ^ y,  globals()['original_R16_'+str(i)],  globals()['fault_R16_'+str(i)]))\n",
        "  #delta goes through Pinverse \n",
        "  globals()['delta_'+str(i)] = cipher._des__permutate(Pinv, globals()['delta_'+str(i)])\n",
        "\n",
        "  globals()['delta_compare'+str(i)] = [globals()['delta_'+str(i)][:4], globals()['delta_'+str(i)][4:8], \n",
        "                                       globals()['delta_'+str(i)][8:12], globals()['delta_'+str(i)][12:16], \n",
        "                                       globals()['delta_'+str(i)][16:20], globals()['delta_'+str(i)][20:24], \n",
        "                                       globals()['delta_'+str(i)][24:28], globals()['delta_'+str(i)][28:32]]\n",
        "  print(globals()['delta_'+str(i)])\n",
        "\n",
        "#expansion of orginal L16 and fault L16\n",
        "  globals()['expanded_L16'+str(i)] = cipher._des__permutate(cipher._des__expansion_table, globals()['original_L16_'+str(i)])\n",
        "  globals()['expanded_fault_L16'+str(i)] = cipher._des__permutate(cipher._des__expansion_table, globals()['fault_L16_'+str(i)])\n"
      ],
      "metadata": {
        "colab": {
          "base_uri": "https://localhost:8080/"
        },
        "id": "VMAqRoyy2fp1",
        "outputId": "47f3b382-51a2-4bda-b1e4-ac9e71e158ac"
      },
      "execution_count": null,
      "outputs": [
        {
          "output_type": "stream",
          "name": "stdout",
          "text": [
            "[1, 0, 1, 0, 0, 0, 0, 0, 0, 0, 0, 0, 0, 0, 0, 0, 0, 0, 0, 0, 0, 0, 0, 0, 0, 0, 0, 0, 1, 1, 0, 0]\n",
            "[0, 1, 0, 1, 0, 0, 0, 0, 0, 0, 0, 0, 0, 0, 0, 0, 0, 0, 0, 0, 0, 0, 0, 0, 0, 0, 0, 0, 0, 0, 0, 0]\n",
            "[1, 1, 1, 0, 0, 0, 0, 0, 0, 0, 0, 0, 0, 0, 0, 0, 0, 0, 0, 0, 0, 0, 0, 0, 0, 0, 0, 0, 0, 0, 0, 0]\n",
            "[0, 1, 1, 0, 1, 1, 0, 0, 0, 0, 0, 0, 0, 0, 0, 0, 0, 0, 0, 0, 0, 0, 0, 0, 0, 0, 0, 0, 0, 0, 0, 0]\n",
            "[1, 1, 0, 0, 0, 0, 1, 1, 0, 0, 0, 0, 0, 0, 0, 0, 0, 0, 0, 0, 0, 0, 0, 0, 0, 0, 0, 0, 0, 0, 0, 0]\n",
            "[0, 0, 0, 0, 1, 0, 1, 0, 0, 0, 0, 0, 0, 0, 0, 0, 0, 0, 0, 0, 0, 0, 0, 0, 0, 0, 0, 0, 0, 0, 0, 0]\n",
            "[0, 0, 0, 0, 0, 1, 1, 1, 0, 0, 0, 0, 0, 0, 0, 0, 0, 0, 0, 0, 0, 0, 0, 0, 0, 0, 0, 0, 0, 0, 0, 0]\n",
            "[0, 0, 0, 0, 1, 1, 1, 0, 0, 1, 1, 0, 0, 0, 0, 0, 0, 0, 0, 0, 0, 0, 0, 0, 0, 0, 0, 0, 0, 0, 0, 0]\n",
            "[0, 0, 0, 0, 1, 0, 0, 1, 1, 1, 0, 1, 0, 0, 0, 0, 0, 0, 0, 0, 0, 0, 0, 0, 0, 0, 0, 0, 0, 0, 0, 0]\n",
            "[0, 0, 0, 0, 0, 0, 0, 0, 0, 0, 1, 1, 0, 0, 0, 0, 0, 0, 0, 0, 0, 0, 0, 0, 0, 0, 0, 0, 0, 0, 0, 0]\n",
            "[0, 0, 0, 0, 0, 0, 0, 0, 1, 1, 1, 0, 0, 0, 0, 0, 0, 0, 0, 0, 0, 0, 0, 0, 0, 0, 0, 0, 0, 0, 0, 0]\n",
            "[0, 0, 0, 0, 0, 0, 0, 0, 1, 0, 1, 0, 0, 1, 1, 1, 0, 0, 0, 0, 0, 0, 0, 0, 0, 0, 0, 0, 0, 0, 0, 0]\n",
            "[0, 0, 0, 0, 0, 0, 0, 0, 0, 1, 1, 1, 1, 1, 1, 1, 0, 0, 0, 0, 0, 0, 0, 0, 0, 0, 0, 0, 0, 0, 0, 0]\n",
            "[0, 0, 0, 0, 0, 0, 0, 0, 0, 0, 0, 0, 0, 1, 1, 1, 0, 0, 0, 0, 0, 0, 0, 0, 0, 0, 0, 0, 0, 0, 0, 0]\n",
            "[0, 0, 0, 0, 0, 0, 0, 0, 0, 0, 0, 0, 1, 1, 0, 1, 0, 0, 0, 0, 0, 0, 0, 0, 0, 0, 0, 0, 0, 0, 0, 0]\n",
            "[0, 0, 0, 0, 0, 0, 0, 0, 0, 0, 0, 0, 0, 1, 0, 1, 0, 0, 1, 1, 0, 0, 0, 0, 0, 0, 0, 0, 0, 0, 0, 0]\n",
            "[0, 0, 0, 0, 0, 0, 0, 0, 0, 0, 0, 0, 0, 1, 0, 1, 1, 1, 0, 1, 0, 0, 0, 0, 0, 0, 0, 0, 0, 0, 0, 0]\n",
            "[0, 0, 0, 0, 0, 0, 0, 0, 0, 0, 0, 0, 0, 0, 0, 0, 1, 1, 0, 0, 0, 0, 0, 0, 0, 0, 0, 0, 0, 0, 0, 0]\n",
            "[0, 0, 0, 0, 0, 0, 0, 0, 0, 0, 0, 0, 0, 0, 0, 0, 0, 1, 1, 0, 0, 0, 0, 0, 0, 0, 0, 0, 0, 0, 0, 0]\n",
            "[0, 0, 0, 0, 0, 0, 0, 0, 0, 0, 0, 0, 0, 0, 0, 0, 1, 0, 0, 1, 1, 1, 1, 1, 0, 0, 0, 0, 0, 0, 0, 0]\n",
            "[0, 0, 0, 0, 0, 0, 0, 0, 0, 0, 0, 0, 0, 0, 0, 0, 1, 0, 0, 1, 1, 1, 0, 1, 0, 0, 0, 0, 0, 0, 0, 0]\n",
            "[0, 0, 0, 0, 0, 0, 0, 0, 0, 0, 0, 0, 0, 0, 0, 0, 0, 0, 0, 0, 0, 1, 1, 1, 0, 0, 0, 0, 0, 0, 0, 0]\n",
            "[0, 0, 0, 0, 0, 0, 0, 0, 0, 0, 0, 0, 0, 0, 0, 0, 0, 0, 0, 0, 1, 0, 0, 1, 0, 0, 0, 0, 0, 0, 0, 0]\n",
            "[0, 0, 0, 0, 0, 0, 0, 0, 0, 0, 0, 0, 0, 0, 0, 0, 0, 0, 0, 0, 1, 1, 0, 0, 1, 1, 0, 1, 0, 0, 0, 0]\n",
            "[0, 0, 0, 0, 0, 0, 0, 0, 0, 0, 0, 0, 0, 0, 0, 0, 0, 0, 0, 0, 1, 1, 0, 1, 0, 1, 1, 0, 0, 0, 0, 0]\n",
            "[0, 0, 0, 0, 0, 0, 0, 0, 0, 0, 0, 0, 0, 0, 0, 0, 0, 0, 0, 0, 0, 0, 0, 0, 1, 1, 0, 0, 0, 0, 0, 0]\n",
            "[0, 0, 0, 0, 0, 0, 0, 0, 0, 0, 0, 0, 0, 0, 0, 0, 0, 0, 0, 0, 0, 0, 0, 0, 1, 0, 0, 1, 0, 0, 0, 0]\n",
            "[0, 0, 0, 0, 0, 0, 0, 0, 0, 0, 0, 0, 0, 0, 0, 0, 0, 0, 0, 0, 0, 0, 0, 0, 1, 1, 0, 1, 0, 0, 1, 1]\n",
            "[0, 0, 0, 0, 0, 0, 0, 0, 0, 0, 0, 0, 0, 0, 0, 0, 0, 0, 0, 0, 0, 0, 0, 0, 0, 1, 0, 1, 0, 1, 1, 1]\n",
            "[0, 0, 0, 0, 0, 0, 0, 0, 0, 0, 0, 0, 0, 0, 0, 0, 0, 0, 0, 0, 0, 0, 0, 0, 0, 0, 0, 0, 1, 1, 0, 0]\n",
            "[0, 0, 0, 0, 0, 0, 0, 0, 0, 0, 0, 0, 0, 0, 0, 0, 0, 0, 0, 0, 0, 0, 0, 0, 0, 0, 0, 0, 0, 1, 0, 1]\n",
            "[0, 1, 1, 0, 0, 0, 0, 0, 0, 0, 0, 0, 0, 0, 0, 0, 0, 0, 0, 0, 0, 0, 0, 0, 0, 0, 0, 0, 0, 1, 1, 0]\n"
          ]
        }
      ]
    },
    {
      "cell_type": "code",
      "source": [
        "# expanded_L16 = cipher._des__permutate(cipher._des__expansion_table, original_L16)\n",
        "# expanded_fault_L16 = cipher._des__permutate(cipher._des__expansion_table, fault_L16)\n",
        "\n",
        "# total_original=[]\n",
        "# total_fault=[]\n",
        "# for i in range(64):\n",
        "#   full_original = []\n",
        "#   full_fault =[]\n",
        "#   for j in range(8):\n",
        "#     full_original+=sboxing(expanded_L16)[j][i]\n",
        "#     full_fault+=sboxing(expanded_fault_L16)[j][i]\n",
        "#     # print(len(full))\n",
        "#   original_perm = cipher._des__permutate(cipher._des__p, full_original)\n",
        "#   fault_perm = cipher._des__permutate(cipher._des__p, full_fault)\n",
        "\n",
        "#   total_original.append(original_perm)\n",
        "#   total_fault.append(fault_perm)\n",
        "\n",
        "  \n",
        "# for i in range(5):\n",
        "#   print(len(sboxing(globals()['expanded_L16'+str(i)])))\n"
      ],
      "metadata": {
        "id": "efEW6j2MIE24"
      },
      "execution_count": null,
      "outputs": []
    },
    {
      "cell_type": "code",
      "source": [
        "poss=[]      #number of keys per iteration per sbox......just numbers \n",
        "keys_poss=[]  #contains index of findkey of corresponding sbox of corresponding iteration\n",
        "\n",
        "for k in range(32):         #for each iteration\n",
        "  possibilities_per_sbox=[]\n",
        "  keysbox=[]\n",
        "  for j in range(8):        #for each sbox\n",
        "    kk=[]\n",
        "    count=0\n",
        "    original_sboxing_combinations = sboxing(globals()['expanded_L16'+str(k)])[j]    \n",
        "    fault_sboxing_combinations = sboxing(globals()['expanded_fault_L16'+str(k)])[j]\n",
        "  \n",
        "\n",
        "    for i in range(64):     #for each possibilty of 6 bit key for sbox\n",
        "      sxor = list(map(lambda x, y: x ^ y,original_sboxing_combinations[i], fault_sboxing_combinations[i] ))\n",
        "      # print(sxor)\n",
        "      if sxor == globals()['delta_compare'+str(k)][j]:\n",
        "        count=count+1\n",
        "        kk.append(i)\n",
        "        # print(\"key at \"+ str(i) + str(findkey[i])+ \" for box \" +str(j)+ str(sxor))\n",
        "    keysbox.append(kk)\n",
        "    # print(keysbox)\n",
        "    possibilities_per_sbox.append(count)\n",
        "  keys_poss.append(keysbox)\n",
        "\n",
        "  # print(possibilities_per_sbox)\n",
        "      \n",
        "  poss.append(possibilities_per_sbox)\n",
        "poss  #number of keys per iteration per sbox"
      ],
      "metadata": {
        "colab": {
          "base_uri": "https://localhost:8080/"
        },
        "id": "P_XG_bc48bxs",
        "outputId": "58fb4914-1b42-461f-d783-98a0a4a9846b"
      },
      "execution_count": null,
      "outputs": [
        {
          "output_type": "execute_result",
          "data": {
            "text/plain": [
              "[[6, 64, 64, 64, 64, 64, 64, 14],\n",
              " [8, 64, 64, 64, 64, 64, 64, 64],\n",
              " [6, 64, 64, 64, 64, 64, 64, 64],\n",
              " [4, 14, 64, 64, 64, 64, 64, 64],\n",
              " [10, 8, 64, 64, 64, 64, 64, 64],\n",
              " [64, 16, 64, 64, 64, 64, 64, 64],\n",
              " [64, 14, 64, 64, 64, 64, 64, 64],\n",
              " [64, 12, 4, 64, 64, 64, 64, 64],\n",
              " [64, 14, 14, 64, 64, 64, 64, 64],\n",
              " [64, 64, 10, 64, 64, 64, 64, 64],\n",
              " [64, 64, 10, 64, 64, 64, 64, 64],\n",
              " [64, 64, 12, 12, 64, 64, 64, 64],\n",
              " [64, 64, 12, 8, 64, 64, 64, 64],\n",
              " [64, 64, 64, 8, 64, 64, 64, 64],\n",
              " [64, 64, 64, 4, 64, 64, 64, 64],\n",
              " [64, 64, 64, 4, 8, 64, 64, 64],\n",
              " [64, 64, 64, 16, 6, 64, 64, 64],\n",
              " [64, 64, 64, 64, 8, 64, 64, 64],\n",
              " [64, 64, 64, 64, 10, 64, 64, 64],\n",
              " [64, 64, 64, 64, 6, 8, 64, 64],\n",
              " [64, 64, 64, 64, 4, 4, 64, 64],\n",
              " [64, 64, 64, 64, 64, 4, 64, 64],\n",
              " [64, 64, 64, 64, 64, 6, 64, 64],\n",
              " [64, 64, 64, 64, 64, 6, 6, 64],\n",
              " [64, 64, 64, 64, 64, 16, 8, 64],\n",
              " [64, 64, 64, 64, 64, 64, 6, 64],\n",
              " [64, 64, 64, 64, 64, 64, 8, 64],\n",
              " [64, 64, 64, 64, 64, 64, 12, 16],\n",
              " [64, 64, 64, 64, 64, 64, 4, 12],\n",
              " [64, 64, 64, 64, 64, 64, 64, 8],\n",
              " [64, 64, 64, 64, 64, 64, 64, 4],\n",
              " [8, 64, 64, 64, 64, 64, 64, 4]]"
            ]
          },
          "metadata": {},
          "execution_count": 228
        }
      ]
    },
    {
      "cell_type": "markdown",
      "source": [
        "as we can see, for sbox1 , only iterations 0,1,2,3,4,31 shows possible variation of keys satisfy.\n",
        "\n",
        "Lets combine them and get the index of the findkey of corresponding sbox"
      ],
      "metadata": {
        "id": "kcBtdWtK5LzE"
      }
    },
    {
      "cell_type": "code",
      "source": [
        "# ******************not required*****************************\n",
        "letc =[]\n",
        "fault_number=[]\n",
        "for i in range(8):\n",
        "  arr=[]\n",
        "  common=[]\n",
        "  for j in range(32):\n",
        "    arr.append(poss[j][i])\n",
        "    if(poss[j][i] !=64):\n",
        "      common.append(j)\n",
        "\n",
        "  # print(arr)\n",
        "  # print(min(arr))\n",
        "  letc.append(common)\n",
        "  fault_number.append(arr.index(min(arr)))\n",
        "  # print(fault_number)\n",
        "  \n",
        "\n",
        "  print(\"for sbox \"+ str(i)+\" try keys in fault \"+str(fault_number[i]))   #shows minimum key variations to be observed\n",
        "print(letc)"
      ],
      "metadata": {
        "colab": {
          "base_uri": "https://localhost:8080/"
        },
        "id": "tlDBd1Cx9cwr",
        "outputId": "33875fc7-b802-49a4-d983-677d63116109"
      },
      "execution_count": null,
      "outputs": [
        {
          "output_type": "stream",
          "name": "stdout",
          "text": [
            "for sbox 0 try keys in fault 3\n",
            "for sbox 1 try keys in fault 4\n",
            "for sbox 2 try keys in fault 7\n",
            "for sbox 3 try keys in fault 14\n",
            "for sbox 4 try keys in fault 20\n",
            "for sbox 5 try keys in fault 20\n",
            "for sbox 6 try keys in fault 28\n",
            "for sbox 7 try keys in fault 30\n",
            "[[0, 1, 2, 3, 4, 31], [3, 4, 5, 6, 7, 8], [7, 8, 9, 10, 11, 12], [11, 12, 13, 14, 15, 16], [15, 16, 17, 18, 19, 20], [19, 20, 21, 22, 23, 24], [23, 24, 25, 26, 27, 28], [0, 27, 28, 29, 30, 31]]\n"
          ]
        }
      ]
    },
    {
      "cell_type": "code",
      "source": [
        "kk=[]         #correct key index for corresponding sbox\n",
        "\n",
        "for i in range(8):\n",
        "  vliw=[]\n",
        "  for j in letc[i]:\n",
        "    vv=keys_poss[j][i]\n",
        "    vliw = vliw+vv\n",
        "\n",
        "  kk.append(max(set(vliw), key = vliw.count))   #This says maximum number of times an index is repeated and what it is\n",
        "kk                                              #and we append in kk\n",
        "\n",
        "#forgive my variable naming"
      ],
      "metadata": {
        "colab": {
          "base_uri": "https://localhost:8080/"
        },
        "id": "jg9-WohMQzCp",
        "outputId": "a2b6d39e-631f-44e6-8f7e-2b926f389291"
      },
      "execution_count": null,
      "outputs": [
        {
          "output_type": "execute_result",
          "data": {
            "text/plain": [
              "[56, 27, 56, 38, 36, 28, 43, 56]"
            ]
          },
          "metadata": {},
          "execution_count": 230
        }
      ]
    },
    {
      "cell_type": "markdown",
      "source": [
        "#The last round key"
      ],
      "metadata": {
        "id": "Rhh7cft06TGI"
      }
    },
    {
      "cell_type": "code",
      "source": [
        "final_round_key = []\n",
        "for i in kk:\n",
        "  final_round_key+= list(findkey[i])\n",
        "print(final_round_key)"
      ],
      "metadata": {
        "colab": {
          "base_uri": "https://localhost:8080/"
        },
        "id": "Vjs7pzQzY-ne",
        "outputId": "fd3cddbb-ddf6-4773-813a-1f4408fb0cbb"
      },
      "execution_count": null,
      "outputs": [
        {
          "output_type": "stream",
          "name": "stdout",
          "text": [
            "[1, 1, 1, 0, 0, 0, 0, 1, 1, 0, 1, 1, 1, 1, 1, 0, 0, 0, 1, 0, 0, 1, 1, 0, 1, 0, 0, 1, 0, 0, 0, 1, 1, 1, 0, 0, 1, 0, 1, 0, 1, 1, 1, 1, 1, 0, 0, 0]\n"
          ]
        }
      ]
    },
    {
      "cell_type": "code",
      "source": [
        "#using the package\n",
        "\n",
        "cipher.encrypt(plain_text)\n",
        "print(cipher.encrypt(plain_text))\n",
        "print(cipher.Kn[15])"
      ],
      "metadata": {
        "colab": {
          "base_uri": "https://localhost:8080/"
        },
        "id": "U1vkVVICarm4",
        "outputId": "24d56631-ab54-400e-f42b-8837869233ba"
      },
      "execution_count": null,
      "outputs": [
        {
          "output_type": "stream",
          "name": "stdout",
          "text": [
            "b'\\xcdtE\\x9c\\xf4\\xcca\\xfb'\n",
            "[1, 1, 1, 0, 0, 0, 0, 1, 1, 0, 1, 1, 1, 1, 1, 0, 0, 0, 1, 0, 0, 1, 1, 0, 1, 0, 0, 1, 0, 0, 0, 1, 1, 1, 0, 0, 1, 0, 1, 0, 1, 1, 1, 1, 1, 0, 0, 0]\n"
          ]
        }
      ]
    },
    {
      "cell_type": "code",
      "source": [
        "# lets check if we got the right subkey key\n",
        "# cipher has an attribute, Kn which contains array of subkeys for 16 rounds\n",
        "\n",
        "#by XORing the obtained key and cipher.Kn key , we can see that all values are zeroes, which means they are same\n",
        "print(list(map(lambda x, y: x ^ y,final_round_key, cipher.Kn[15])))"
      ],
      "metadata": {
        "colab": {
          "base_uri": "https://localhost:8080/"
        },
        "id": "gO7yOwtN6ga7",
        "outputId": "d40f7c71-71e0-45fd-817c-694d32664c46"
      },
      "execution_count": null,
      "outputs": [
        {
          "output_type": "stream",
          "name": "stdout",
          "text": [
            "[0, 0, 0, 0, 0, 0, 0, 0, 0, 0, 0, 0, 0, 0, 0, 0, 0, 0, 0, 0, 0, 0, 0, 0, 0, 0, 0, 0, 0, 0, 0, 0, 0, 0, 0, 0, 0, 0, 0, 0, 0, 0, 0, 0, 0, 0, 0, 0]\n"
          ]
        }
      ]
    },
    {
      "cell_type": "code",
      "source": [
        "\n",
        "# for i in range(8):\n",
        "#   key_index = keys_poss[fault_number[i]][i]\n",
        "#   print(key_index)\n",
        "#   # print(\"possible sbox \"+str(i)+\" keys are\")\n",
        "#   arr=[]\n",
        "#   for j in key_index:   \n",
        "#     arr.append(findkey[j]) \n",
        "    \n",
        "#   globals()['possbox_'+str(i)+'_keys'] = arr\n",
        "#   # print( globals()['possbox_'+str(i)+'_keys'])"
      ],
      "metadata": {
        "id": "w9RF-FWRQ-ws"
      },
      "execution_count": null,
      "outputs": []
    },
    {
      "cell_type": "markdown",
      "source": [
        "#Retrieving the \"KEY\""
      ],
      "metadata": {
        "id": "kfCzSn_Pa51V"
      }
    },
    {
      "cell_type": "code",
      "source": [
        "#This was a useful function, but....sadly not using it\n",
        "# def bitstring_to_bytes(s):\n",
        "#     v = int(s, 2)\n",
        "#     b = bytearray()\n",
        "#     while v:\n",
        "#         b.append(v & 0xff)\n",
        "#         v >>= 8\n",
        "#     return bytes(b[::-1])\n",
        "\n",
        "# s = \"11100000111101000000110100111100101111011101000010011000110111\"\n",
        "# print(bitstring_to_bytes(s))"
      ],
      "metadata": {
        "id": "SQGA5dzu997x"
      },
      "execution_count": null,
      "outputs": []
    },
    {
      "cell_type": "code",
      "source": [
        "def get_bit_uint64_t_most(num, bit_pos):\n",
        "    mask = 1 << (64 - bit_pos)                              #extracts a bit from a 64-bit unsigned integer (uint64_t) starting from the most significant bit (MSB).\n",
        "    return 1 if num & mask else 0\n",
        "\n",
        "def set_bit_uint64_t(num, bit_value, bit_pos):\n",
        "    mask = 1 << (64 - bit_pos)            # sets a specific bit in a 64-bit unsigned integer (uint64_t).\n",
        "    if bit_value == 1:\n",
        "        num |= mask\n",
        "    else:\n",
        "        num &= ~mask\n",
        "    return num\n",
        "\n",
        "def build_C16_D16(K16):          #building C16 AND D16 FROM LAST ROUND KEY OBTAINED\n",
        "    C0 = K16 >> 28\n",
        "    D0 = K16 & 0xFFFFFFF\n",
        "    return C0, D0\n",
        "\n",
        "PC1 = [                                   #PC1 permutation through which key changes from 56 to 48\n",
        "    57, 49, 41, 33, 25, 17, 9, 1,\n",
        "    58, 50, 42, 34, 26, 18, 10, 2,\n",
        "    59, 51, 43, 35, 27, 19, 11, 3,\n",
        "    60, 52, 44, 36, 63, 55, 47, 39,\n",
        "    31, 23, 15, 7, 62, 54, 46, 38,\n",
        "    30, 22, 14, 6, 61, 53, 45, 37,\n",
        "    29, 21, 13, 5, 28, 20, 12, 4\n",
        "]\n",
        "\n",
        "def build_K56(C0, D0):     #extracting 56 bit key \n",
        "    K56 = 0x00\n",
        "    K56 = C0 << 28\n",
        "    K56 |= D0\n",
        "    return K56\n",
        "\n",
        "def build_K(C16, D16):     #applies the PC1 permutation to K56 and returns the resulting 48-bit unsigned integer\n",
        "    K = 0x00\n",
        "    for i in range(56):\n",
        "        rang = PC1[i]\n",
        "        bit = get_bit_uint64_t_most(build_K56(C16, D16), i + 1 + 8)\n",
        "        K = set_bit_uint64_t(K, bit, 65 - rang)\n",
        "    return K\n",
        "\n",
        "def set_parity_bits(K):           #sets the parity bits in the key K. It loops over each of the eight 7-bit groups of the key, counts the number of 1 bits in each group, \n",
        "    for i in range(8):                        #and sets the parity bit to 0 if the count is odd and 1 if the count is even\n",
        "        j = 1 + i * 8\n",
        "        compteur = sum(get_bit_uint64_t_most(K, j + k) for k in range(7))\n",
        "        bit8 = 1 if compteur % 2 == 0 else 0\n",
        "        K = set_bit_uint64_t(K, bit8, 8 * (8 - i) - 7)\n",
        "    return K\n",
        "\n",
        "\n"
      ],
      "metadata": {
        "id": "AKemdRzujxtR"
      },
      "execution_count": 248,
      "outputs": []
    },
    {
      "cell_type": "markdown",
      "source": [
        "#finding the key"
      ],
      "metadata": {
        "id": "EXUy6aCq8rIP"
      }
    },
    {
      "cell_type": "markdown",
      "source": [
        "below function performs an exhaustive search over the 8 bits of the key that are not known. \n",
        "Iterates over all possible values of these 8 bits and sets them in the key. \n",
        "For each possible key, it encrypts the plaintext using DES and compares the resulting ciphertext with the expected ciphertext. If the ciphertext matches the expected value, it returns the key. Otherwise, it continues searching."
      ],
      "metadata": {
        "id": "qLukRuFVFvHI"
      }
    },
    {
      "cell_type": "code",
      "source": [
        "class DATA:\n",
        "  # k16: a hexadecimal number\n",
        "  # key: initially set to zero, but will later be updated\n",
        "  # message_clair: some variable plain_text is used to initialize this attribute\n",
        "  # chiffre_juste: an integer value which appears to be a pre-determined ciphertext value, \n",
        "  # to be used as a reference for validating the correctness of the code's output.\n",
        "\n",
        "    def __init__(self):\n",
        "        self.k16 = 0xE1BE2691CAF8  # k16 in hex form\n",
        "        self.key = 0              # key\n",
        "        self.message_clair = plain_text   # plaintext in uint64_t format\n",
        "        self.chiffre_juste = 14804534415497912827 # to get the correct output\n",
        "\n",
        "\n",
        "\n",
        "def find_K(data: DATA) -> int:\n",
        "    C16, D16 = build_C16_D16(data.k16)\n",
        "    data.key = build_K(C16, D16)\n",
        "\n",
        "    for i in range(0xFF):\n",
        "        # recherche exhaustive sur les 8 bits non connus\n",
        "        bit1 = (i >> 7) & 1\n",
        "        data.key = set_bit_uint64_t(data.key, bit1, 7)\n",
        "        bit2 = (i >> 6) & 1\n",
        "        data.key = set_bit_uint64_t(data.key, bit2, 14)\n",
        "        bit3 = (i >> 5) & 1\n",
        "        data.key = set_bit_uint64_t(data.key, bit3, 46)\n",
        "        bit4 = (i >> 4) & 1\n",
        "        data.key = set_bit_uint64_t(data.key, bit4, 5)\n",
        "        bit5 = (i >> 3) & 1\n",
        "        data.key = set_bit_uint64_t(data.key, bit5, 50)\n",
        "        bit6 = (i >> 2) & 1\n",
        "        data.key = set_bit_uint64_t(data.key, bit6, 11)\n",
        "        bit7 = (i >> 1) & 1\n",
        "        data.key = set_bit_uint64_t(data.key, bit7, 51)\n",
        "        bit8 = i & 1\n",
        "        data.key = set_bit_uint64_t(data.key, bit8, 45)\n",
        "\n",
        "        # ajout des bits de parité\n",
        "        set_parity_bits(data.key)\n",
        "\n",
        "        # data.message_clair = data.message_clair_original\n",
        "        # print(key)\n",
        "        b = cipher.encrypt(data.message_clair, data.key)\n",
        "        n = int.from_bytes(b, byteorder='big')\n",
        "        uint64_t_value = n & 0xffffffffffffffff\n",
        "        # print(uint64_t_value)\n",
        "        \n",
        "\n",
        "        # Si le chiffrement du message clair avec la clé donne le chiffré correct alors la clé sur 64 bits a été trouvée.\n",
        "        if uint64_t_value == data.chiffre_juste:\n",
        "            # print(uint64_t_value)\n",
        "            return key\n",
        "\n",
        "    return \"Try again!\""
      ],
      "metadata": {
        "id": "rbCuHmHj8qa-"
      },
      "execution_count": 249,
      "outputs": []
    },
    {
      "cell_type": "code",
      "source": [
        "# The find_K() function takes an instance of the DATA class and tries to find the key \n",
        "# by brute-forcing the 8 unknown bits. It sets each bit of the key to a possible value and \n",
        "# checks if the encrypted message matches the correct ciphertext.\n",
        "\n",
        "# If the correct key is found, the function returns 0. Otherwise, it returns 1. \n",
        "# The code also prints out the key and the encrypted message for each iteration.\n",
        "\n",
        "objectcall = DATA()\n",
        "print(find_K(objectcall))"
      ],
      "metadata": {
        "colab": {
          "base_uri": "https://localhost:8080/"
        },
        "id": "obKyMj8XuzUG",
        "outputId": "d86dc595-bc16-408b-8fbf-cb88fea8a60e"
      },
      "execution_count": 250,
      "outputs": [
        {
          "output_type": "stream",
          "name": "stdout",
          "text": [
            "Donttell\n"
          ]
        }
      ]
    },
    {
      "cell_type": "code",
      "source": [],
      "metadata": {
        "id": "rYTbMO2dkg33"
      },
      "execution_count": null,
      "outputs": []
    }
  ]
}